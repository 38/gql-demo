{
 "cells": [
  {
   "cell_type": "code",
   "execution_count": 4,
   "metadata": {},
   "outputs": [],
   "source": [
    "// First, let's detect the repository root. \n",
    "// Unfortunately, the EvCxR doesn't works with relative path\n",
    "let root = std::env::current_dir().unwrap();"
   ]
  },
  {
   "cell_type": "code",
   "execution_count": 8,
   "metadata": {},
   "outputs": [
    {
     "data": {
      "text/plain": [
       "1\t67\t167\n",
       "1\t91\t191\n",
       "1\t300\t400\n",
       "1\t1361\t1461\n",
       "1\t1464\t1564\n",
       "1\t1885\t1985\n",
       "1\t2062\t2162\n",
       "1\t2278\t2378\n",
       "1\t2745\t2845\n",
       "1\t2763\t2863\n",
       "-------------------------------\n",
       "10 Rows Returned"
      ]
     },
     "execution_count": 8,
     "metadata": {},
     "output_type": "execute_result"
    }
   ],
   "source": [
    ":dep grass={git = \"https://github.com/38/grass-demo.git\"}\n",
    "// Basic load and print a file\n",
    "std::env::set_current_dir(root.clone());\n",
    "{\n",
    "    use grass::high_level_api::*;\n",
    "    let a = open_sorted_bed3(\"data/a.bed\");\n",
    "    a.show_top(10) \n",
    "}"
   ]
  },
  {
   "cell_type": "code",
   "execution_count": 9,
   "metadata": {},
   "outputs": [
    {
     "data": {
      "text/plain": [
       "1\t131\t231\t2232464\n",
       "1\t234\t334\t1542303\n",
       "1\t399\t499\t1389688\n",
       "1\t847\t947\t846908\n",
       "1\t904\t1004\t1319775\n",
       "1\t1083\t1183\t1915721\n",
       "1\t1242\t1342\t3663468\n",
       "1\t2733\t2833\t2385656\n",
       "1\t2930\t3030\t3748963\n",
       "1\t3177\t3277\t3380322\n",
       "-------------------------------\n",
       "10 Rows Returned"
      ]
     },
     "execution_count": 9,
     "metadata": {},
     "output_type": "execute_result"
    }
   ],
   "source": [
    ":dep grass={git = \"https://github.com/38/grass-demo.git\"}\n",
    "// Basic load and print a file\n",
    "std::env::set_current_dir(root.clone());\n",
    "{\n",
    "    use grass::high_level_api::*;\n",
    "    let b = open_sorted_bed4(\"data/b.bed\");\n",
    "    b.show_top(10) \n",
    "}"
   ]
  },
  {
   "cell_type": "code",
   "execution_count": 12,
   "metadata": {},
   "outputs": [
    {
     "data": {
      "text/plain": [
       "1\t67\t167\t|\t1\t131\t231\t2232464\n",
       "1\t91\t191\t|\t1\t131\t231\t2232464\n",
       "1\t300\t400\t|\t1\t234\t334\t1542303\n",
       "1\t300\t400\t|\t1\t399\t499\t1389688\n",
       "1\t2745\t2845\t|\t1\t2733\t2833\t2385656\n",
       "1\t2763\t2863\t|\t1\t2733\t2833\t2385656\n",
       "1\t3904\t4004\t|\t1\t3899\t3999\t2321674\n",
       "1\t3904\t4004\t|\t1\t3977\t4077\t965526\n",
       "1\t5812\t5912\t|\t1\t5787\t5887\t2836861\n",
       "1\t5819\t5919\t|\t1\t5787\t5887\t2836861\n",
       "-------------------------------\n",
       "10 Rows Returned"
      ]
     },
     "execution_count": 12,
     "metadata": {},
     "output_type": "execute_result"
    }
   ],
   "source": [
    ":dep grass={git = \"https://github.com/38/grass-demo.git\"}\n",
    "// Intersect two files\n",
    "std::env::set_current_dir(root.clone());\n",
    "{\n",
    "    use grass::high_level_api::*;\n",
    "    let a = open_sorted_bed3(\"data/a.bed\");\n",
    "    let b = open_sorted_bed4(\"data/b.bed\");\n",
    "    a.sorted_intersect(b).show_top(10)\n",
    "}"
   ]
  },
  {
   "cell_type": "code",
   "execution_count": 13,
   "metadata": {},
   "outputs": [
    {
     "data": {
      "text/plain": [
       "1\t20\t50\tB\n",
       "1\t10\t100\tA\n",
       "1\t110\t200\tA\n",
       "1\t70\t350\tB\n",
       "-------------------------------\n",
       "4 Rows Returned"
      ]
     },
     "execution_count": 13,
     "metadata": {},
     "output_type": "execute_result"
    }
   ],
   "source": [
    ":dep grass={git = \"https://github.com/38/grass-demo.git\"}\n",
    "// Tagged merge\n",
    "std::env::set_current_dir(root.clone());\n",
    "{\n",
    "    use grass::high_level_api::*;\n",
    "    let input = open_sorted_bed4(\"data/tag.bed\");\n",
    "    input.tagged_merge(|x| x.name.clone()).show_top(10)\n",
    "    // TO save the result to file:\n",
    "    // input.tagged_merge(|x| x.name.clone()).save(\"/tmp/result.bed\")\n",
    "}"
   ]
  },
  {
   "cell_type": "code",
   "execution_count": 5,
   "metadata": {},
   "outputs": [
    {
     "data": {
      "text/plain": [
       "1\t20\t50\tB\n",
       "1\t10\t100\tA\n",
       "1\t110\t200\tA\n",
       "1\t70\t350\tB\n",
       "-------------------------------\n",
       "4 Rows Returned"
      ]
     },
     "execution_count": 5,
     "metadata": {},
     "output_type": "execute_result"
    }
   ],
   "source": [
    ":dep grass={path = \"/home/haohou/source/grass-projects/grass\", features = [\"hts\"]}\n",
    "std::env::set_current_dir(root.clone());\n",
    "{\n",
    "    use grass::high_level_api::*;\n",
    "    // TODO BAM Demo\n",
    "    // TO save the result to file:\n",
    "    // input.tagged_merge(|x| x.name.clone()).save(\"/tmp/result.bed\")\n",
    "}"
   ]
  }
 ],
 "metadata": {
  "kernelspec": {
   "display_name": "Rust",
   "language": "rust",
   "name": "rust"
  },
  "language_info": {
   "codemirror_mode": "rust",
   "file_extension": ".rs",
   "mimetype": "text/rust",
   "name": "Rust",
   "pygment_lexer": "rust",
   "version": ""
  }
 },
 "nbformat": 4,
 "nbformat_minor": 4
}
