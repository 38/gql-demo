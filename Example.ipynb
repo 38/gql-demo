{
 "cells": [
  {
   "cell_type": "code",
   "execution_count": 15,
   "metadata": {},
   "outputs": [],
   "source": [
    "// First, let's detect the repository root. \n",
    "// Unfortunately, the EvCxR doesn't works with relative path\n",
    "let root = std::env::current_dir().unwrap();"
   ]
  },
  {
   "cell_type": "code",
   "execution_count": 18,
   "metadata": {},
   "outputs": [
    {
     "ename": "Error",
     "evalue": "expected expression, found `:`",
     "output_type": "error",
     "traceback": [
      ":dep grass={git = \"https://github.com/38/grass-demo\"}",
      "\u001b[91m^\u001b[0m \u001b[94mexpected expression\u001b[0m",
      "expected expression, found `:`"
     ]
    }
   ],
   "source": [
    "\n",
    ":dep grass={git = \"https://github.com/38/grass-demo\"}\n",
    "// Basic load and print a file\n",
    "std::env::set_current_dir(root);\n",
    "{\n",
    "    use grass::high_level_api::*;\n",
    "    let a = open_bed3_file(\"data/a.bed\");\n",
    "    a.show_top(10)\n",
    "}"
   ]
  }
 ],
 "metadata": {
  "kernelspec": {
   "display_name": "Rust",
   "language": "rust",
   "name": "rust"
  },
  "language_info": {
   "codemirror_mode": "rust",
   "file_extension": ".rs",
   "mimetype": "text/rust",
   "name": "Rust",
   "pygment_lexer": "rust",
   "version": ""
  }
 },
 "nbformat": 4,
 "nbformat_minor": 4
}
