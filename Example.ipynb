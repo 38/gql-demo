{
 "cells": [
  {
   "cell_type": "code",
   "execution_count": 26,
   "metadata": {},
   "outputs": [
    {
     "data": {
      "text/plain": [
       "Optimization: 3\n",
       "108622959"
      ]
     },
     "execution_count": 26,
     "metadata": {},
     "output_type": "execute_result"
    },
    {
     "data": {
      "text/html": [
       "<span style=\"color: rgba(0,0,0,0.4);\">Took 3455ms</span>"
      ]
     },
     "execution_count": 26,
     "metadata": {},
     "output_type": "execute_result"
    }
   ],
   "source": [
    ":opt 3\n",
    ":dep grass={path = \"/home/haohou/source/experiment/grass\"}\n",
    "use gql::high_level_api::*;\n",
    "{\n",
    "    let a = open_sorted_bed3(\"/home/haohou/source/experiment/grass/a.bed\");\n",
    "    let b = open_sorted_bed4(\"/home/haohou/source/experiment/grass/b.bed\");\n",
    "    let c = open_sorted_bed4(\"/home/haohou/source/experiment/grass/c.bed\");\n",
    "    //a.sorted_intersect(b).sorted_intersect(c).show_top(10)\n",
    "    a.sorted_intersect(b).merge_overlaps().map(|x| x.length()).sum::<u32>()\n",
    "\n",
    "    //a.sorted_intersect(b).show_top(10);\n",
    "    //a.sorted_intersect(b).filter(|r| r.length() as f64 > r.0.length() as f64 * 0.9).count()\n",
    "    //.map(|x| (Bed3::new(x.clone()), x)).show_top(5) //.filter(|x| x.length() < 20).as_bed3().show_top(5)\n",
    "}"
   ]
  },
  {
   "cell_type": "code",
   "execution_count": 20,
   "metadata": {},
   "outputs": [
    {
     "data": {
      "text/plain": [
       "Timing: true\n"
      ]
     },
     "execution_count": 20,
     "metadata": {},
     "output_type": "execute_result"
    },
    {
     "data": {
      "text/html": [
       "<span style=\"color: rgba(0,0,0,0.4);\">Took 0ms</span>"
      ]
     },
     "execution_count": 20,
     "metadata": {},
     "output_type": "execute_result"
    }
   ],
   "source": [
    ":timing"
   ]
  },
  {
   "cell_type": "code",
   "execution_count": 22,
   "metadata": {},
   "outputs": [
    {
     "data": {
      "text/plain": [
       "5323473"
      ]
     },
     "execution_count": 22,
     "metadata": {},
     "output_type": "execute_result"
    }
   ],
   "source": [
    ":dep grass={path = \"/home/haohou/source/experiment/grass\"}\n",
    "use gql::high_level_api::*;\n",
    "{\n",
    "    let a = open_sorted_bed3(\"/home/haohou/source/experiment/grass/a.bed\");\n",
    "    a.coverage().filter(|x| x.score > Some(0)).count()\n",
    "    //a.merge_overlaps().count()\n",
    "    //a.components().show_top(10)\n",
    "}"
   ]
  },
  {
   "cell_type": "code",
   "execution_count": 4,
   "metadata": {},
   "outputs": [
    {
     "data": {
      "text/plain": [
       "1\t131\t231\t2232464\n",
       "1\t234\t334\t1542303\n",
       "1\t399\t499\t1389688\n",
       "1\t847\t947\t846908\n",
       "1\t904\t1004\t1319775\n",
       "1\t1083\t1183\t1915721\n",
       "1\t1242\t1342\t3663468\n",
       "1\t2733\t2833\t2385656\n",
       "1\t2930\t3030\t3748963\n",
       "1\t3177\t3277\t3380322\n",
       "-------------------------------\n",
       "10 Rows Returned"
      ]
     },
     "execution_count": 4,
     "metadata": {},
     "output_type": "execute_result"
    }
   ],
   "source": [
    ":dep grass={path = \"/home/haohou/source/experiment/grass\"}\n",
    "use gql::high_level_api::*;\n",
    "use gql::properties::WithRegion;\n",
    "{\n",
    "    let b = open_sorted_bed4(\"/home/haohou/source/experiment/grass/b.bed\");\n",
    "    b.show_top(10)\n",
    "}"
   ]
  },
  {
   "cell_type": "code",
   "execution_count": null,
   "metadata": {
    "scrolled": true
   },
   "outputs": [],
   "source": [
    ":dep grass={path = \"/home/haohou/source/experiment/grass\"}\n",
    "use gql::high_level_api::*;\n",
    "use gql::properties::{WithRegion, WithName};\n",
    "{\n",
    "    let b = open_sorted_bed4(\"/tmp/test.bed\");\n",
    "    b.tagged_merge(|x| x.name.clone()).show_all()\n",
    "}"
   ]
  }
 ],
 "metadata": {
  "kernelspec": {
   "display_name": "Rust",
   "language": "rust",
   "name": "rust"
  },
  "language_info": {
   "codemirror_mode": "rust",
   "file_extension": ".rs",
   "mimetype": "text/rust",
   "name": "Rust",
   "pygment_lexer": "rust",
   "version": ""
  }
 },
 "nbformat": 4,
 "nbformat_minor": 4
}
